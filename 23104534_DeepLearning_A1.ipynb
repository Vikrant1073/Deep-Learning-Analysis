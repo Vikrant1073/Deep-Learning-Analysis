{
 "cells": [
  {
   "cell_type": "markdown",
   "id": "b2fd17ae",
   "metadata": {},
   "source": [
    "# Deep Learning \n",
    "## Assignment 1: Neural Network"
   ]
  },
  {
   "cell_type": "markdown",
   "id": "8bdcd0b9",
   "metadata": {},
   "source": [
    "<H3> Submitted by: <br>\n",
    "Name: <I>Vikrant Singh Jamwal</I> <br>\n",
    "Student ID: <I>23104534</I></H3>"
   ]
  },
  {
   "cell_type": "markdown",
   "id": "c96c60fd",
   "metadata": {},
   "source": [
    "## Libraries Used"
   ]
  },
  {
   "cell_type": "code",
   "execution_count": 1,
   "id": "d07aed27",
   "metadata": {},
   "outputs": [],
   "source": [
    "import math\n",
    "import numpy as np\n",
    "import pandas as pd\n",
    "import random\n",
    "import matplotlib.pyplot as plt\n",
    "from sklearn.model_selection import train_test_split\n",
    "from sklearn.metrics import accuracy_score"
   ]
  },
  {
   "cell_type": "markdown",
   "id": "152b25c2",
   "metadata": {},
   "source": [
    "## Part 1: Implement Logistic Regression\n",
    "\n",
    "**Algorithm:**  Logistic Regression, unlike its name is a classification algorithm. It divides the dataset by creating a line or plane between binary classes through points. Regression term is used as it gives out the probabilies as output.\n",
    "\n",
    "**Equation of the Line**\n",
    "\n",
    "$ z(x) = \\sum_{i=1}^n W_i.X_i + b$\n",
    "\n",
    "where, z(x) is the output, W are the weights (slope of the line), X are the inputs and b is the bias (intercept of the line).\n",
    "\n",
    "**Activation Function**\n",
    "\n",
    "From various activation functions like Sigmoid, ReLu, tanH, Leaky Relu and step function (We avoid using as it is non differentiable), we have used Sigmoid function in this Assignment.\n",
    "\n",
    "Sigmoid $ f(z) = \\frac{1}{1 + e^{-z}} $ \n",
    "\n",
    "where, f(z) is the activation output after passing above calculated z through the activation function.\n",
    "\n",
    "**Steps taken to create a Neural Network**\n",
    "\n",
    "* First we created all the functions required to train and predict the output. Functions included:\n",
    "    * **sigmoid()**: This function is our activation function.\n",
    "    * **forward_prop():** This function is for forward propogation, where we put inputs in the equation resembling a line and gets the output.\n",
    "    * **back_prop():** This function is for backward propogation, where the weights and bias are updated on the basis of the outputs generated and true outputs.\n",
    "    * **loss_func():** This function is used to calculate the loss for the output layer.\n",
    "    * **train():** This includes initialisation of weights and bias, then a random instance is chosen to train. Hyperparameters like threshold, learning rate (alpha) and max_iterations are defined.\n",
    "    * **predict():** This function predicts the output, it includes calling forward_prop function and then estimating the classes from the probability.\n",
    "    \n",
    "* NumPy is not used in the implementation of Neural network without hidden layers.\n",
    "* Hill climb approach is used to take the steps to minimise the cost function.\n",
    "\n",
    "**References**\n",
    "* Deep leaning Module - 1MAI - Semester 2\n",
    "* Optimisation Module - 1MAI - Semester 1\n",
    "* http://ufldl.stanford.edu/tutorial/supervised/MultiLayerNeuralNetworks/ (Provided in the DL module)"
   ]
  },
  {
   "cell_type": "code",
   "execution_count": 2,
   "id": "bf3bd313",
   "metadata": {},
   "outputs": [],
   "source": [
    "def sigmoid(x):\n",
    "    return 1/(1+np.exp(-x))"
   ]
  },
  {
   "cell_type": "code",
   "execution_count": 3,
   "id": "c5263747",
   "metadata": {},
   "outputs": [],
   "source": [
    "def forward_prop(x, W, b):\n",
    "    a=[]\n",
    "    for i in range(len(x)):\n",
    "        Z = b + sum([x[i][j]*W[j] for j in range(len(x[0]))])\n",
    "        a.append(sigmoid(Z))\n",
    "    return a"
   ]
  },
  {
   "cell_type": "code",
   "execution_count": 4,
   "id": "81c542ff",
   "metadata": {},
   "outputs": [],
   "source": [
    "def back_prop(x, Y, W, b, y_hat, alpha):   \n",
    "    dW = [0]*len(x[0])\n",
    "    db = 0\n",
    "    for i in range(len(x)):\n",
    "        dZ = y_hat[i] - Y[i]\n",
    "        for j in range(len(x[0])):\n",
    "            dW[j] += dZ * x[i][j]\n",
    "    db = dZ   \n",
    "    return [dw/len(x) for dw in dW], db/len(x)"
   ]
  },
  {
   "cell_type": "code",
   "execution_count": 5,
   "id": "e22289b7",
   "metadata": {},
   "outputs": [],
   "source": [
    "def loss_func(x, Y, a):    \n",
    "    \n",
    "    loss = 0\n",
    "    for i in range(len(x)):\n",
    "        loss +=(Y[i]*math.log(a[i])+(1-Y[i])*math.log(1-a[i]))\n",
    "    return -loss"
   ]
  },
  {
   "cell_type": "code",
   "execution_count": 6,
   "id": "4394d02e",
   "metadata": {},
   "outputs": [],
   "source": [
    "def train(X, Y, alpha = 0.01, max_iterations = 50000, threshold = 1e-7):\n",
    "    \n",
    "    W = [random.random()*0.01]*len(X[0])\n",
    "    b = np.random.randn(1, 1)*0.01\n",
    "    \n",
    "    losses=[]\n",
    "    J = 100\n",
    "    J_previous = 100\n",
    "    iterations = 0\n",
    "    \n",
    "    stop=False\n",
    "    while stop == False:\n",
    "        \n",
    "        index = np.random.choice(len(X))\n",
    "        x = [X[index]]\n",
    "        y = [Y[index]]\n",
    "\n",
    "        y_hat = forward_prop(x, W, b)\n",
    "        \n",
    "        J = loss_func(x, y, y_hat)\n",
    "        \n",
    "        dW, db = back_prop(x, y, W, b, y_hat, alpha)\n",
    "        \n",
    "        for j in range(len(x[0])):\n",
    "            W[j] -= alpha * dW[j]\n",
    "        b -= alpha * db\n",
    "            \n",
    "        \n",
    "        iterations += 1\n",
    "        if abs(J - J_previous) < threshold:\n",
    "            stop = True\n",
    "            \n",
    "        elif iterations==max_iterations:\n",
    "            stop = True\n",
    "    \n",
    "        if abs(J) < abs(J_previous):\n",
    "            losses.append(J)\n",
    "            J_previous = J\n",
    "        else:\n",
    "            losses.append(J_previous)\n",
    "\n",
    "        \n",
    "    return losses, J, W, b, iterations"
   ]
  },
  {
   "cell_type": "code",
   "execution_count": 7,
   "id": "24e13381",
   "metadata": {},
   "outputs": [],
   "source": [
    "def predict(x, W, b):\n",
    "    return [1 if y>0.5 else 0 for y in forward_prop(x, W, b)]"
   ]
  },
  {
   "cell_type": "markdown",
   "id": "1f6f2acc",
   "metadata": {},
   "source": [
    "Function train() returns 5 values:\n",
    "* losses: list of J for each iteration\n",
    "* J: last loss value\n",
    "* W: updated weights\n",
    "* b: updated bias\n",
    "* iterations: Number of iterations to converge or reach max. limit."
   ]
  },
  {
   "cell_type": "markdown",
   "id": "cbe1da83",
   "metadata": {},
   "source": [
    "# Part 2: Easy Tasks"
   ]
  },
  {
   "cell_type": "markdown",
   "id": "509fb4b0",
   "metadata": {},
   "source": [
    "## Reading the datasets (blobs400 and circles500)\n",
    "\n",
    "Used Pandas Dataframes to read and visualise the dataset"
   ]
  },
  {
   "cell_type": "code",
   "execution_count": 8,
   "id": "d9f98793",
   "metadata": {},
   "outputs": [
    {
     "data": {
      "text/html": [
       "<div>\n",
       "<style scoped>\n",
       "    .dataframe tbody tr th:only-of-type {\n",
       "        vertical-align: middle;\n",
       "    }\n",
       "\n",
       "    .dataframe tbody tr th {\n",
       "        vertical-align: top;\n",
       "    }\n",
       "\n",
       "    .dataframe thead th {\n",
       "        text-align: right;\n",
       "    }\n",
       "</style>\n",
       "<table border=\"1\" class=\"dataframe\">\n",
       "  <thead>\n",
       "    <tr style=\"text-align: right;\">\n",
       "      <th></th>\n",
       "      <th>X1</th>\n",
       "      <th>X2</th>\n",
       "      <th>X3</th>\n",
       "      <th>Class</th>\n",
       "    </tr>\n",
       "  </thead>\n",
       "  <tbody>\n",
       "    <tr>\n",
       "      <th>0</th>\n",
       "      <td>1.418221</td>\n",
       "      <td>2.124375</td>\n",
       "      <td>-0.433905</td>\n",
       "      <td>1</td>\n",
       "    </tr>\n",
       "    <tr>\n",
       "      <th>1</th>\n",
       "      <td>1.590404</td>\n",
       "      <td>0.935434</td>\n",
       "      <td>1.510369</td>\n",
       "      <td>1</td>\n",
       "    </tr>\n",
       "    <tr>\n",
       "      <th>2</th>\n",
       "      <td>2.311458</td>\n",
       "      <td>-1.026668</td>\n",
       "      <td>1.031930</td>\n",
       "      <td>1</td>\n",
       "    </tr>\n",
       "    <tr>\n",
       "      <th>3</th>\n",
       "      <td>1.186782</td>\n",
       "      <td>0.591894</td>\n",
       "      <td>0.563649</td>\n",
       "      <td>1</td>\n",
       "    </tr>\n",
       "    <tr>\n",
       "      <th>4</th>\n",
       "      <td>1.661888</td>\n",
       "      <td>4.047231</td>\n",
       "      <td>0.987049</td>\n",
       "      <td>0</td>\n",
       "    </tr>\n",
       "  </tbody>\n",
       "</table>\n",
       "</div>"
      ],
      "text/plain": [
       "         X1        X2        X3  Class\n",
       "0  1.418221  2.124375 -0.433905      1\n",
       "1  1.590404  0.935434  1.510369      1\n",
       "2  2.311458 -1.026668  1.031930      1\n",
       "3  1.186782  0.591894  0.563649      1\n",
       "4  1.661888  4.047231  0.987049      0"
      ]
     },
     "execution_count": 8,
     "metadata": {},
     "output_type": "execute_result"
    }
   ],
   "source": [
    "df_blobs = pd.read_csv(\"blobs400.csv\")\n",
    "df_circles = pd.read_csv(\"circles500.csv\")\n",
    "df_blobs.head()"
   ]
  },
  {
   "cell_type": "markdown",
   "id": "dbd8e771",
   "metadata": {},
   "source": [
    "Creating X and y for both the datasets"
   ]
  },
  {
   "cell_type": "code",
   "execution_count": 9,
   "id": "9db89a09",
   "metadata": {},
   "outputs": [],
   "source": [
    "x_blobs = np.array(df_blobs.drop(\"Class\", axis = 1))\n",
    "Y_blobs = [i for i in df_blobs[\"Class\"]]"
   ]
  },
  {
   "cell_type": "code",
   "execution_count": 10,
   "id": "73e795e0",
   "metadata": {},
   "outputs": [],
   "source": [
    "x_circles = np.array(df_circles.drop(\"Class\", axis=1))\n",
    "Y_circles = [i for i in df_circles[\"Class\"]]"
   ]
  },
  {
   "cell_type": "markdown",
   "id": "d4ec177f",
   "metadata": {},
   "source": [
    "### Using train_test_split to divide the dataset in train, val and test dataset\n",
    "\n",
    "* First dividing the dataset in training and test data, with test size = 0.15\n",
    "* Then, dividng training into train and val data, with test size = 0.176 as to get the train set as 70%, val set as 15% and test set as 15%."
   ]
  },
  {
   "cell_type": "code",
   "execution_count": 11,
   "id": "f9f0d8a0",
   "metadata": {},
   "outputs": [],
   "source": [
    "x_training_blobs, x_test_blobs, Y_training_blobs, Y_test_blobs = train_test_split(x_blobs, Y_blobs, test_size=0.15, random_state = 42)\n",
    "x_train_blobs, x_val_blobs, Y_train_blobs, Y_val_blobs = train_test_split(x_training_blobs, Y_training_blobs, test_size=0.176, random_state = 42)\n",
    "\n",
    "\n",
    "x_training_circles, x_test_circles, Y_training_circles, Y_test_circles = train_test_split(x_circles, Y_circles,test_size=0.15, random_state = 42)\n",
    "x_train_circles, x_val_circles, Y_train_circles, Y_val_circles = train_test_split(x_training_circles, Y_training_circles,test_size=0.176, random_state = 42)"
   ]
  },
  {
   "cell_type": "code",
   "execution_count": 12,
   "id": "0dbe24fa",
   "metadata": {},
   "outputs": [
    {
     "data": {
      "text/plain": [
       "280"
      ]
     },
     "execution_count": 12,
     "metadata": {},
     "output_type": "execute_result"
    }
   ],
   "source": [
    "len(Y_train_blobs)"
   ]
  },
  {
   "cell_type": "markdown",
   "id": "4a5325f0",
   "metadata": {},
   "source": [
    "## Training and plotting both the datasets"
   ]
  },
  {
   "cell_type": "code",
   "execution_count": 13,
   "id": "d415f0e3",
   "metadata": {},
   "outputs": [],
   "source": [
    "losses_blobs, J_blobs, W_blobs_hat, b_blobs_hat, i_b = train(x_train_blobs, Y_train_blobs)\n",
    "losses_circles, J_circles, W_circles_hat, b_circles_hat, i_c = train(x_train_circles, Y_train_circles)"
   ]
  },
  {
   "cell_type": "markdown",
   "id": "2e3aa192",
   "metadata": {},
   "source": [
    "### BLOBS"
   ]
  },
  {
   "cell_type": "code",
   "execution_count": 14,
   "id": "c3cb038f",
   "metadata": {},
   "outputs": [
    {
     "data": {
      "text/plain": [
       "[<matplotlib.lines.Line2D at 0x1335c6610>]"
      ]
     },
     "execution_count": 14,
     "metadata": {},
     "output_type": "execute_result"
    },
    {
     "data": {
      "image/png": "[encoded data removed]",
      "text/plain": [
       "<Figure size 640x480 with 1 Axes>"
      ]
     },
     "metadata": {},
     "output_type": "display_data"
    }
   ],
   "source": [
    "plt.plot(range(i_b), losses_blobs)"
   ]
  },
  {
   "cell_type": "markdown",
   "id": "e14b2faa",
   "metadata": {},
   "source": [
    "### CIRCLES"
   ]
  },
  {
   "cell_type": "code",
   "execution_count": 15,
   "id": "5c33b042",
   "metadata": {},
   "outputs": [
    {
     "data": {
      "text/plain": [
       "[<matplotlib.lines.Line2D at 0x13393d390>]"
      ]
     },
     "execution_count": 15,
     "metadata": {},
     "output_type": "execute_result"
    },
    {
     "data": {
      "image/png": "[encoded data removed]",
      "text/plain": [
       "<Figure size 640x480 with 1 Axes>"
      ]
     },
     "metadata": {},
     "output_type": "display_data"
    }
   ],
   "source": [
    "plt.plot(range(i_c), losses_circles)"
   ]
  },
  {
   "cell_type": "markdown",
   "id": "8f29ba39",
   "metadata": {},
   "source": [
    "## Evaluating the predictions on val and test set"
   ]
  },
  {
   "cell_type": "markdown",
   "id": "e0ace5d0",
   "metadata": {},
   "source": [
    "#### Blobs"
   ]
  },
  {
   "cell_type": "code",
   "execution_count": 16,
   "id": "5bdef233",
   "metadata": {},
   "outputs": [
    {
     "name": "stdout",
     "output_type": "stream",
     "text": [
      "Training Accuracy: 97.50%\n",
      "Validation Accuracy: 98.33%\n",
      "Testing Accuracy: 96.67%\n"
     ]
    }
   ],
   "source": [
    "y_hat_blobs = predict(x_train_blobs, W_blobs_hat, b_blobs_hat)\n",
    "print(f'Training Accuracy: {accuracy_score(Y_train_blobs, y_hat_blobs)*100:.2f}%')\n",
    "\n",
    "y_hat_blobs = predict(x_val_blobs, W_blobs_hat, b_blobs_hat)\n",
    "print(f'Validation Accuracy: {accuracy_score(Y_val_blobs, y_hat_blobs)*100:.2f}%')\n",
    "\n",
    "y_hat_blobs = predict(x_test_blobs, W_blobs_hat, b_blobs_hat)\n",
    "print(f'Testing Accuracy: {accuracy_score(Y_test_blobs, y_hat_blobs)*100:.2f}%')"
   ]
  },
  {
   "cell_type": "markdown",
   "id": "9d60b3e8",
   "metadata": {},
   "source": [
    "#### Circles"
   ]
  },
  {
   "cell_type": "code",
   "execution_count": 17,
   "id": "df6efb18",
   "metadata": {},
   "outputs": [
    {
     "name": "stdout",
     "output_type": "stream",
     "text": [
      "Training Accuracy: 51.14%\n",
      "Validation Accuracy: 38.67%\n",
      "Testing Accuracy: 41.33%\n"
     ]
    }
   ],
   "source": [
    "y_hat_circles = predict(x_train_circles, W_circles_hat, b_circles_hat)\n",
    "print(f'Training Accuracy: {accuracy_score(Y_train_circles, y_hat_circles)*100:.2f}%')\n",
    "\n",
    "y_hat_circles = predict(x_val_circles, W_circles_hat, b_circles_hat)\n",
    "print(f'Validation Accuracy: {accuracy_score(Y_val_circles, y_hat_circles)*100:.2f}%')\n",
    "\n",
    "y_hat_circles = predict(x_test_circles, W_circles_hat, b_circles_hat)\n",
    "print(f'Testing Accuracy: {accuracy_score(Y_test_circles, y_hat_circles)*100:.2f}%')"
   ]
  },
  {
   "cell_type": "markdown",
   "id": "bee70e64",
   "metadata": {},
   "source": [
    "### Findings \n",
    "* As blobs were linearly separable, the neural network performed well on predicting the test set. <br>\n",
    "* On the other hand, as Circles were linearly non-separable, hence have shown low accuracy score on test dataset."
   ]
  },
  {
   "cell_type": "markdown",
   "id": "4fc6ee7d",
   "metadata": {},
   "source": [
    "# Part 3: Shallow Neural network (1 hidden layer)"
   ]
  },
  {
   "cell_type": "markdown",
   "id": "998bed17",
   "metadata": {},
   "source": [
    "**Defination:** Shallow Neural Networks can be considered as a neural network of very few hidden layers. In our case, only one hidden layer is implemented. It can be said as a combination odf multiple logistic regression we created above. \n",
    "\n",
    "**Specifications**\n",
    "* Using functions of above created losgistic regression with some modifications discussed below.\n",
    "* Using NumPy to have faster matrix calculations. Used to calculate Dot product, scaler multiplications/division and scaler addition/substraction.\n",
    "* New parameter Hidden_layer is added, which denotes the hidden nodes and hidden layers present in the network. Layers are initialised to 1 and nodes can defined in the argument when calling the function train."
   ]
  },
  {
   "cell_type": "code",
   "execution_count": 18,
   "id": "b5875884",
   "metadata": {},
   "outputs": [],
   "source": [
    "def sigmoid(z, output_layer = False):\n",
    "    \n",
    "    if output_layer == False:    \n",
    "        return 1/(1+np.exp(-z))\n",
    "    else:\n",
    "        return sigmoid(z)*(1-sigmoid(z))"
   ]
  },
  {
   "cell_type": "markdown",
   "id": "122166e7",
   "metadata": {},
   "source": [
    "**Updates for sigmoid function**\n",
    "* New argument output_layer is added to retreive the derivative of sigmoid function as well.\n",
    "\n",
    "* For hidden layers, we require the $ f`(z) = sigmoid(z)*(1-sigmoid(z)) $"
   ]
  },
  {
   "cell_type": "code",
   "execution_count": 19,
   "id": "bc678a1a",
   "metadata": {},
   "outputs": [],
   "source": [
    "def forward_prop(x, W, b, hidden_layer):    \n",
    "    \n",
    "    a_layer = [x]\n",
    "    Z = x\n",
    "    \n",
    "    for layer in range(hidden_layer[1]+1):\n",
    "        Z = b[layer] + np.dot(Z, W[layer].T)\n",
    "        a_layer.append(sigmoid(Z))\n",
    "      \n",
    "    return a_layer"
   ]
  },
  {
   "cell_type": "markdown",
   "id": "c6f3dabd",
   "metadata": {},
   "source": [
    "**Updates for forward_prop**\n",
    "* a is now written as a_layer and is now an array of all the outputs of each layer appended into it.\n",
    "* x is the first input and then for next layers Z becomes input for itself.\n",
    "* Transpose is used to match the order for matrix calculations."
   ]
  },
  {
   "cell_type": "code",
   "execution_count": 20,
   "id": "cf0aafdd",
   "metadata": {},
   "outputs": [],
   "source": [
    "def loss_func(Y, y_hat):    \n",
    "    \n",
    "    # converting the Y and y_hat to np.array()\n",
    "    Y = np.array(Y)\n",
    "    y_hat = np.array(y_hat)\n",
    "\n",
    "    # loss function for stochastic gradient descent\n",
    "    J = Y*np.log(y_hat + 1e-4)+(1-Y)*np.log(1-y_hat + 1e-4)\n",
    "    \n",
    "    return -J # returning negative loss (as J will be negative for normalised values)"
   ]
  },
  {
   "cell_type": "markdown",
   "id": "1566a4a5",
   "metadata": {},
   "source": [
    "**Updates for loss_func**\n",
    "\n",
    "* Earlier we were handling single values of y and y_hat, now we are using arrays."
   ]
  },
  {
   "cell_type": "code",
   "execution_count": 21,
   "id": "2ecb1f28",
   "metadata": {},
   "outputs": [],
   "source": [
    "def back_prop(x, Y, W, b, a_layer, hidden_layer):   \n",
    "    \n",
    "    # initialising delta values as array of zeros\n",
    "    dW = [np.zeros((layer.shape)) for layer in W]\n",
    "    db = [np.zeros((layer.shape)) for layer in b]\n",
    "    \n",
    "    # initialising dZ for each node in an array\n",
    "    dZ_nodes = [0 for _ in range(hidden_layer[0])]\n",
    "    \n",
    "    # iterating through each layer\n",
    "    for layer in range(-1, -hidden_layer[1]-2, -1):\n",
    "        \n",
    "        # For output layer\n",
    "        if layer == -1:\n",
    "          \n",
    "            dZ = a_layer[layer].T - np.array(Y) # calculating dZ\n",
    "            dW[layer] = dZ * a_layer[layer-1] # calculating dW\n",
    "            db[layer] = np.sum(dZ) # calculating db\n",
    "            dZ_nodes[layer] = dZ\n",
    "        # For hidden layers\n",
    "        else:\n",
    "            \n",
    "            dZ = np.dot(dZ_nodes[1+layer].T,  W[1+layer]) * sigmoid(a_layer[layer],output_layer = True) # calculating dZ\n",
    "            \n",
    "            dW[layer] = dZ.T * a_layer[layer-1]\n",
    "            db[layer] = np.sum(dZ)\n",
    "            dZ_nodes[layer] = dZ\n",
    "        \n",
    "    return dW, db"
   ]
  },
  {
   "cell_type": "markdown",
   "id": "5d513e36",
   "metadata": {},
   "source": [
    "**Updates for back_prop**\n",
    "* Initialised dW and db as lists of Zeroes according to the shape of W and b respectively.\n",
    "* Dividing the layers into 2 parts, output layer and hidden layers. \n",
    "* According the course module, calculated and stored the delta weights for each layer."
   ]
  },
  {
   "cell_type": "code",
   "execution_count": 22,
   "id": "0769d4b7",
   "metadata": {},
   "outputs": [],
   "source": [
    "def train_Shallow_NN(x, Y, nodes = 4, alpha = 0.001, max_iterations = 100000, threshold = 1e-8):\n",
    "   \n",
    "    layers = 1 # hidden layers\n",
    "    hidden_layer = [nodes,layers] # list of hidden nodes, hidden layers\n",
    "\n",
    "    # initialising the weight to small random values with mean = 0 and std = 0.001\n",
    "    W = []\n",
    "    b = []\n",
    "    # Input layer\n",
    "    W.append(np.random.normal(loc=0.0, scale=0.1, size = (hidden_layer[0], x.shape[1])))\n",
    "    b.append(np.random.normal(loc=0.0, scale=0.1, size = (1, hidden_layer[0])))\n",
    "    \n",
    "    # Hiddden layer\n",
    "    W.append(np.random.normal(loc=0.0, scale=0.1, size = (1, hidden_layer[0])))\n",
    "    b.append(np.random.normal(loc=0.0, scale=0.1, size = (1,1)))\n",
    "    \n",
    "    # initialising losses, J and J_previous to high costs, iterations=0\n",
    "    losses=[]\n",
    "    J = 1000\n",
    "    J_previous = 1000\n",
    "    iterations=0\n",
    "    \n",
    "    # stop is the flag to break the loop at either convergence or iterations limit reached.\n",
    "    \n",
    "    stop = False # initially false\n",
    "    while stop==False:\n",
    "\n",
    "        # random index for a instance in the data\n",
    "        random_loc = np.random.choice(len(x))\n",
    "        \n",
    "        # random instance as training_case and actural y for that instance as true_y\n",
    "        training_case = x[random_loc]\n",
    "        true_y = Y[random_loc]\n",
    "        \n",
    "        # a_layer is the activation function value for each layer\n",
    "        a_layer = forward_prop(training_case, W, b, hidden_layer)\n",
    "\n",
    "        # y_hat is the output of the last layer\n",
    "        y_hat = a_layer[-1]\n",
    "        \n",
    "        # defining cost function\n",
    "        J = loss_func(true_y, y_hat)\n",
    "\n",
    "        # geting dW and db from back_prop\n",
    "        dW, db = back_prop(training_case, true_y, W, b, a_layer, hidden_layer)\n",
    "\n",
    "        #updating weights and bias\n",
    "        for j in range(len(W)):\n",
    "            W[j] -= alpha * dW[j]\n",
    "            b[j] -= alpha * db[j]\n",
    "            \n",
    "        # after 1 pass, iteration is increased\n",
    "        iterations+=1\n",
    "        # checking for convergence\n",
    "        if abs(J - J_previous) < threshold:\n",
    "            stop = True # stop if converged\n",
    "        \n",
    "        # checking for iteration limit\n",
    "        elif iterations==max_iterations:\n",
    "            stop = True # stop if limit reached\n",
    "    \n",
    "        # Hill climb approach, only accepting loss which is lesser than previous loss\n",
    "        if abs(J)< abs(J_previous):\n",
    "            \n",
    "            losses.append(J)\n",
    "            J_previous = J\n",
    "        else:\n",
    "            losses.append(J_previous) # Appending loss of each iteration\n",
    "            \n",
    "        \n",
    "    return losses, losses[-1], W, b, iterations"
   ]
  },
  {
   "cell_type": "markdown",
   "id": "bc2b2d69",
   "metadata": {},
   "source": [
    "**Updates for train_Shallow_NN**\n",
    "* Initialised hyperparameters\n",
    "    * nodes - 4\n",
    "    * alpha (learning rate) - 0.001\n",
    "    * max_iteration - 100000\n",
    "    * threshold - $1*e^{-8}$\n",
    "    * weights, biases, J, J_previous, iterations\n",
    "    \n",
    "* While loop is used untill convergence or max limit of iterations.\n",
    "* Forward_prop, loss_func and back_prop are calculated and observed for each iteration\n",
    "* Weights are adjusted accordingly to minimise J (cost function)\n",
    "* Returned list of losses, last loss, Weights and biases updated and iterations took."
   ]
  },
  {
   "cell_type": "code",
   "execution_count": 23,
   "id": "aabb2055",
   "metadata": {},
   "outputs": [],
   "source": [
    "def predict(x, W, b, nodes=4):\n",
    "    layers=1\n",
    "    hidden_layer = [nodes, layers]\n",
    "    return [1 if y>=0.5 else 0 for y in forward_prop(x, W, b, hidden_layer)[-1]], forward_prop(x, W, b, hidden_layer)[-1]"
   ]
  },
  {
   "cell_type": "markdown",
   "id": "3a8712d7",
   "metadata": {},
   "source": [
    "**Updates for predict**\n",
    "* One argument is added as nodes to specify the model's hidden nodes.\n",
    "* Returned 2 values, one is the estimated class and other is the actual probability received."
   ]
  },
  {
   "cell_type": "markdown",
   "id": "56fd5ffd",
   "metadata": {},
   "source": [
    "## Evaluation on small datasets"
   ]
  },
  {
   "cell_type": "markdown",
   "id": "19cd9a93",
   "metadata": {},
   "source": [
    "### Blobs"
   ]
  },
  {
   "cell_type": "code",
   "execution_count": 24,
   "id": "38441a84",
   "metadata": {},
   "outputs": [],
   "source": [
    "# Training on blobs\n",
    "losses_blobs, J_blobs, W_blobs_hat, b_blobs_hat, i = train_Shallow_NN (x_train_blobs, Y_train_blobs, nodes = 4)"
   ]
  },
  {
   "cell_type": "code",
   "execution_count": 25,
   "id": "0bcddb54",
   "metadata": {},
   "outputs": [
    {
     "data": {
      "image/png": "[encoded data removed]",
      "text/plain": [
       "<Figure size 640x480 with 1 Axes>"
      ]
     },
     "metadata": {},
     "output_type": "display_data"
    }
   ],
   "source": [
    "# Plotting blobs loss-iteration curve\n",
    "plt.plot(range(i), np.array(losses_blobs).flatten());"
   ]
  },
  {
   "cell_type": "code",
   "execution_count": 26,
   "id": "9d50d146",
   "metadata": {},
   "outputs": [
    {
     "name": "stdout",
     "output_type": "stream",
     "text": [
      "Training Accuracy: 98.21%\n",
      "Validation Accuracy: 98.33%\n",
      "Testing Accuracy: 98.33%\n"
     ]
    }
   ],
   "source": [
    "y_hat_blobs_train, p_train = predict(x_train_blobs, W_blobs_hat, b_blobs_hat, 10)\n",
    "print(f'Training Accuracy: {accuracy_score(Y_train_blobs, y_hat_blobs_train)*100:.2f}%')\n",
    "\n",
    "y_hat_blobs_val, p_val = predict(x_val_blobs, W_blobs_hat, b_blobs_hat, 10)\n",
    "print(f'Validation Accuracy: {accuracy_score(Y_val_blobs, y_hat_blobs_val)*100:.2f}%')\n",
    "\n",
    "y_hat_blobs_test, p_test = predict(x_test_blobs, W_blobs_hat, b_blobs_hat, 10)\n",
    "print(f'Testing Accuracy: {accuracy_score(Y_test_blobs, y_hat_blobs_test)*100:.2f}%')"
   ]
  },
  {
   "cell_type": "markdown",
   "id": "be2873d7",
   "metadata": {},
   "source": [
    "### Visualising the wrong predictions"
   ]
  },
  {
   "cell_type": "code",
   "execution_count": 27,
   "id": "b81a11ff",
   "metadata": {},
   "outputs": [],
   "source": [
    "# Created a dataframe for wrong predictions\n",
    "df_wrong = pd.DataFrame()"
   ]
  },
  {
   "cell_type": "code",
   "execution_count": 28,
   "id": "cf03c9e2",
   "metadata": {},
   "outputs": [],
   "source": [
    "df_wrong[\"Y_actual\"] = Y_test_blobs\n",
    "df_wrong[\"y_hat\"] = y_hat_blobs_test\n",
    "df_wrong[\"y_hat_prob\"] = p_test"
   ]
  },
  {
   "cell_type": "code",
   "execution_count": 29,
   "id": "598fab50",
   "metadata": {},
   "outputs": [
    {
     "data": {
      "text/html": [
       "<div>\n",
       "<style scoped>\n",
       "    .dataframe tbody tr th:only-of-type {\n",
       "        vertical-align: middle;\n",
       "    }\n",
       "\n",
       "    .dataframe tbody tr th {\n",
       "        vertical-align: top;\n",
       "    }\n",
       "\n",
       "    .dataframe thead th {\n",
       "        text-align: right;\n",
       "    }\n",
       "</style>\n",
       "<table border=\"1\" class=\"dataframe\">\n",
       "  <thead>\n",
       "    <tr style=\"text-align: right;\">\n",
       "      <th></th>\n",
       "      <th>Y_actual</th>\n",
       "      <th>y_hat</th>\n",
       "      <th>y_hat_prob</th>\n",
       "    </tr>\n",
       "  </thead>\n",
       "  <tbody>\n",
       "    <tr>\n",
       "      <th>24</th>\n",
       "      <td>1</td>\n",
       "      <td>0</td>\n",
       "      <td>0.410347</td>\n",
       "    </tr>\n",
       "  </tbody>\n",
       "</table>\n",
       "</div>"
      ],
      "text/plain": [
       "    Y_actual  y_hat  y_hat_prob\n",
       "24         1      0    0.410347"
      ]
     },
     "execution_count": 29,
     "metadata": {},
     "output_type": "execute_result"
    }
   ],
   "source": [
    "df_wrong[df_wrong[\"Y_actual\"]!=df_wrong[\"y_hat\"]]"
   ]
  },
  {
   "cell_type": "markdown",
   "id": "9dd8ded4",
   "metadata": {},
   "source": [
    "### Circles"
   ]
  },
  {
   "cell_type": "code",
   "execution_count": 30,
   "id": "aadc1d65",
   "metadata": {},
   "outputs": [],
   "source": [
    "# Training Circles dataset\n",
    "losses_circles, J_circles, W_circles_hat, b_circles_hat, i_c = train_Shallow_NN(x_train_circles, Y_train_circles, nodes = 10)"
   ]
  },
  {
   "cell_type": "code",
   "execution_count": 31,
   "id": "6c3135c9",
   "metadata": {},
   "outputs": [
    {
     "data": {
      "image/png": "[encoded data removed]",
      "text/plain": [
       "<Figure size 640x480 with 1 Axes>"
      ]
     },
     "metadata": {},
     "output_type": "display_data"
    }
   ],
   "source": [
    "# plotting circles dataset\n",
    "plt.plot(range(i_c), np.array(losses_circles).flatten());"
   ]
  },
  {
   "cell_type": "code",
   "execution_count": 32,
   "id": "bac1a935",
   "metadata": {},
   "outputs": [
    {
     "name": "stdout",
     "output_type": "stream",
     "text": [
      "Training Accuracy: 40.86%\n",
      "Validation Accuracy: 30.67%\n",
      "Testing Accuracy: 30.67%\n"
     ]
    }
   ],
   "source": [
    "y_hat_circles_train, p_train = predict(x_train_circles, W_circles_hat, b_circles_hat, 10)\n",
    "print(f'Training Accuracy: {accuracy_score(Y_train_circles, y_hat_circles_train)*100:.2f}%')\n",
    "\n",
    "y_hat_circles_val, p_val = predict(x_val_circles, W_circles_hat, b_circles_hat, 10)\n",
    "print(f'Validation Accuracy: {accuracy_score(Y_val_circles, y_hat_circles_val)*100:.2f}%')\n",
    "\n",
    "y_hat_circles_test, p_test = predict(x_test_circles, W_circles_hat, b_circles_hat, 10)\n",
    "print(f'Testing Accuracy: {accuracy_score(Y_test_circles, y_hat_circles_test)*100:.2f}%')"
   ]
  },
  {
   "cell_type": "code",
   "execution_count": 33,
   "id": "06371958",
   "metadata": {},
   "outputs": [],
   "source": [
    "df_wrong = pd.DataFrame()"
   ]
  },
  {
   "cell_type": "code",
   "execution_count": 34,
   "id": "33718aca",
   "metadata": {},
   "outputs": [],
   "source": [
    "df_wrong[\"Y_actual\"] = Y_test_circles\n",
    "df_wrong[\"y_hat\"] = y_hat_circles_test\n",
    "df_wrong[\"y_hat_prob\"] = p_test"
   ]
  },
  {
   "cell_type": "code",
   "execution_count": 35,
   "id": "e866dfb1",
   "metadata": {},
   "outputs": [
    {
     "data": {
      "text/html": [
       "<div>\n",
       "<style scoped>\n",
       "    .dataframe tbody tr th:only-of-type {\n",
       "        vertical-align: middle;\n",
       "    }\n",
       "\n",
       "    .dataframe tbody tr th {\n",
       "        vertical-align: top;\n",
       "    }\n",
       "\n",
       "    .dataframe thead th {\n",
       "        text-align: right;\n",
       "    }\n",
       "</style>\n",
       "<table border=\"1\" class=\"dataframe\">\n",
       "  <thead>\n",
       "    <tr style=\"text-align: right;\">\n",
       "      <th></th>\n",
       "      <th>Y_actual</th>\n",
       "      <th>y_hat</th>\n",
       "      <th>y_hat_prob</th>\n",
       "    </tr>\n",
       "  </thead>\n",
       "  <tbody>\n",
       "    <tr>\n",
       "      <th>0</th>\n",
       "      <td>0</td>\n",
       "      <td>1</td>\n",
       "      <td>0.504494</td>\n",
       "    </tr>\n",
       "    <tr>\n",
       "      <th>2</th>\n",
       "      <td>1</td>\n",
       "      <td>0</td>\n",
       "      <td>0.492325</td>\n",
       "    </tr>\n",
       "    <tr>\n",
       "      <th>3</th>\n",
       "      <td>1</td>\n",
       "      <td>0</td>\n",
       "      <td>0.475469</td>\n",
       "    </tr>\n",
       "    <tr>\n",
       "      <th>4</th>\n",
       "      <td>1</td>\n",
       "      <td>0</td>\n",
       "      <td>0.496027</td>\n",
       "    </tr>\n",
       "    <tr>\n",
       "      <th>5</th>\n",
       "      <td>1</td>\n",
       "      <td>0</td>\n",
       "      <td>0.493028</td>\n",
       "    </tr>\n",
       "  </tbody>\n",
       "</table>\n",
       "</div>"
      ],
      "text/plain": [
       "   Y_actual  y_hat  y_hat_prob\n",
       "0         0      1    0.504494\n",
       "2         1      0    0.492325\n",
       "3         1      0    0.475469\n",
       "4         1      0    0.496027\n",
       "5         1      0    0.493028"
      ]
     },
     "execution_count": 35,
     "metadata": {},
     "output_type": "execute_result"
    }
   ],
   "source": [
    "df_wrong[df_wrong[\"Y_actual\"]!=df_wrong[\"y_hat\"]].head()"
   ]
  },
  {
   "cell_type": "markdown",
   "id": "c81756ee",
   "metadata": {},
   "source": [
    "# Part 4: Challenging task (MNIST dataset)"
   ]
  },
  {
   "cell_type": "markdown",
   "id": "60a3dc68",
   "metadata": {},
   "source": [
    "### Functions source: Course module\n",
    "* load_mnist ( ) : Allows to read the images dataset and returns images and labels\n",
    "* visualise ( ) : Allows to view gray scale images of 28x28 size"
   ]
  },
  {
   "cell_type": "code",
   "execution_count": 36,
   "id": "4f1766ac",
   "metadata": {},
   "outputs": [],
   "source": [
    "def load_mnist(path, kind='train'): \n",
    "    import os\n",
    "    import gzip\n",
    "    import numpy as np\n",
    "\n",
    "    \"\"\"Load MNIST data from `path`\"\"\"\n",
    "    labels_path = os.path.join(path,\n",
    "                               '%s-labels-idx1-ubyte.gz'\n",
    "                               % kind)\n",
    "    images_path = os.path.join(path,\n",
    "                               '%s-images-idx3-ubyte.gz'\n",
    "                               % kind)\n",
    "\n",
    "    with gzip.open(labels_path, 'rb') as lbpath:\n",
    "        labels = np.frombuffer(lbpath.read(), dtype=np.uint8,\n",
    "                               offset=8)\n",
    "\n",
    "    with gzip.open(images_path, 'rb') as imgpath:\n",
    "        images = np.frombuffer(imgpath.read(), dtype=np.uint8,\n",
    "                               offset=16).reshape(len(labels), 784)\n",
    "\n",
    "    return images, labels\n"
   ]
  },
  {
   "cell_type": "code",
   "execution_count": 37,
   "id": "26556ad6",
   "metadata": {},
   "outputs": [],
   "source": [
    "def visualise(data, index):\n",
    "    picture = data[index]\n",
    "    picture.shape = (28,28) \n",
    "    plt.imshow(picture, cmap='gray')\n",
    "    plt.show()"
   ]
  },
  {
   "cell_type": "markdown",
   "id": "a164a661",
   "metadata": {},
   "source": [
    "Using the provided functions, retrieving train and test images and labels"
   ]
  },
  {
   "cell_type": "code",
   "execution_count": 38,
   "id": "f95f00b5",
   "metadata": {},
   "outputs": [],
   "source": [
    "train_img, train_labels = load_mnist('', 'train')\n",
    "test_img, test_labels = load_mnist('', 't10k')"
   ]
  },
  {
   "cell_type": "code",
   "execution_count": 39,
   "id": "296429bf",
   "metadata": {},
   "outputs": [
    {
     "name": "stdout",
     "output_type": "stream",
     "text": [
      "(60000,) (60000, 784)\n"
     ]
    }
   ],
   "source": [
    "# viewing shapes of training images and labels\n",
    "print(train_labels.shape, train_img.shape)"
   ]
  },
  {
   "cell_type": "markdown",
   "id": "68d070b9",
   "metadata": {},
   "source": [
    "## Labels provided by the Professor : *Sneaker and Trouser*"
   ]
  },
  {
   "cell_type": "code",
   "execution_count": 40,
   "id": "3374b88d",
   "metadata": {},
   "outputs": [],
   "source": [
    "label_names = [\"Sneaker\", \"Trouser\"]\n",
    "\n",
    "# Created a function to find indexes of Sneaker and Trouser in the dataset\n",
    "def indexer(data):\n",
    "    # creating an array of labels with only label = 1 or 7, and 0 for any other label\n",
    "    sneaker_trouser_label =  np.array([t if (t == 1 or t == 7) else 0 for t in data])\n",
    "    \n",
    "    # creating an array of indexes where the value is not 0\n",
    "    index_label = np.where(sneaker_trouser_label !=0)[0]\n",
    "    return index_label"
   ]
  },
  {
   "cell_type": "code",
   "execution_count": 41,
   "id": "7713bcca",
   "metadata": {},
   "outputs": [],
   "source": [
    "# Got indexes for train and test data\n",
    "train_indexes = indexer(train_labels)\n",
    "test_indexes = indexer(test_labels)"
   ]
  },
  {
   "cell_type": "markdown",
   "id": "aa541ed1",
   "metadata": {},
   "source": [
    "### Visualising few images of test data"
   ]
  },
  {
   "cell_type": "code",
   "execution_count": 42,
   "id": "2cee2696",
   "metadata": {},
   "outputs": [
    {
     "data": {
      "image/png": "[encoded data removed]",
      "text/plain": [
       "<Figure size 640x480 with 1 Axes>"
      ]
     },
     "metadata": {},
     "output_type": "display_data"
    },
    {
     "data": {
      "image/png": "[encoded data removed]",
      "text/plain": [
       "<Figure size 640x480 with 1 Axes>"
      ]
     },
     "metadata": {},
     "output_type": "display_data"
    },
    {
     "data": {
      "image/png": "[encoded data removed]",
      "text/plain": [
       "<Figure size 640x480 with 1 Axes>"
      ]
     },
     "metadata": {},
     "output_type": "display_data"
    },
    {
     "data": {
      "image/png": "[encoded data removed]",
      "text/plain": [
       "<Figure size 640x480 with 1 Axes>"
      ]
     },
     "metadata": {},
     "output_type": "display_data"
    },
    {
     "data": {
      "image/png": "[encoded data removed]",
      "text/plain": [
       "<Figure size 640x480 with 1 Axes>"
      ]
     },
     "metadata": {},
     "output_type": "display_data"
    },
    {
     "data": {
      "image/png": "[encoded data removed]",
      "text/plain": [
       "<Figure size 640x480 with 1 Axes>"
      ]
     },
     "metadata": {},
     "output_type": "display_data"
    },
    {
     "data": {
      "image/png": "[encoded data removed]",
      "text/plain": [
       "<Figure size 640x480 with 1 Axes>"
      ]
     },
     "metadata": {},
     "output_type": "display_data"
    }
   ],
   "source": [
    "for i in test_indexes:\n",
    "    visualise(test_img, i)\n",
    "    if i>15:\n",
    "        break"
   ]
  },
  {
   "cell_type": "markdown",
   "id": "f6beadf6",
   "metadata": {},
   "source": [
    "### From the indexes, created x and y for both train and test"
   ]
  },
  {
   "cell_type": "code",
   "execution_count": 43,
   "id": "4bb8f429",
   "metadata": {},
   "outputs": [],
   "source": [
    "# As pixels value goes to 255, hence normalising it with 255 to get all the values in 0 and 1\n",
    "x_train_imgs = train_img[train_indexes]/255\n",
    "y_train_labels = train_labels[train_indexes]\n",
    "# labels are converted to 0 and 1, giving trouser-0 and sneaker-1\n",
    "y_train_labels = [1 if l==1 else 0 for l in y_train_labels]"
   ]
  },
  {
   "cell_type": "code",
   "execution_count": 44,
   "id": "04300ea1",
   "metadata": {},
   "outputs": [],
   "source": [
    "# As pixels value goes to 255, hence normalising it with 255 to get all the values in 0 and 1\n",
    "x_test_imgs = test_img[test_indexes]/255\n",
    "y_test_labels = test_labels[test_indexes]\n",
    "# labels are converted to 0 and 1, giving trouser-0 and sneaker-1\n",
    "y_test_labels = [1 if l==1 else 0 for l in y_test_labels]"
   ]
  },
  {
   "cell_type": "markdown",
   "id": "30f05788",
   "metadata": {},
   "source": [
    "## Evaluating the dataset"
   ]
  },
  {
   "cell_type": "markdown",
   "id": "5f3dbd8b",
   "metadata": {},
   "source": [
    "#### Training the shallow NN model with nodes = 20 and alpha = 0.0001"
   ]
  },
  {
   "cell_type": "code",
   "execution_count": 45,
   "id": "3b4225b4",
   "metadata": {},
   "outputs": [],
   "source": [
    "losses_imgs, J_imgs, W_imgs_hat, b_imgs_hat, i_imgs = train_Shallow_NN (x_train_imgs, y_train_labels, nodes = 30, alpha =0.0001)"
   ]
  },
  {
   "cell_type": "markdown",
   "id": "39d28d73",
   "metadata": {},
   "source": [
    "#### Plotting the loss-iteration curve"
   ]
  },
  {
   "cell_type": "code",
   "execution_count": 46,
   "id": "15baea8c",
   "metadata": {},
   "outputs": [
    {
     "data": {
      "text/plain": [
       "[<matplotlib.lines.Line2D at 0x133d0f710>]"
      ]
     },
     "execution_count": 46,
     "metadata": {},
     "output_type": "execute_result"
    },
    {
     "data": {
      "image/png": "[encoded data removed]",
      "text/plain": [
       "<Figure size 640x480 with 1 Axes>"
      ]
     },
     "metadata": {},
     "output_type": "display_data"
    }
   ],
   "source": [
    "plt.plot(range(i_imgs), np.array(losses_imgs).flatten())"
   ]
  },
  {
   "cell_type": "code",
   "execution_count": 47,
   "id": "ab8b52d1",
   "metadata": {},
   "outputs": [
    {
     "name": "stdout",
     "output_type": "stream",
     "text": [
      "Training Accuracy: 99.95%\n",
      "Testing Accuracy: 99.90%\n"
     ]
    }
   ],
   "source": [
    "y_hat_imgs_train, p_train = predict(x_train_imgs, W_imgs_hat, b_imgs_hat, 30)\n",
    "print(f'Training Accuracy: {accuracy_score(y_train_labels, y_hat_imgs_train)*100:.2f}%')\n",
    "\n",
    "y_hat_imgs_test, p_test = predict(x_test_imgs, W_imgs_hat, b_imgs_hat, 30)\n",
    "print(f'Testing Accuracy: {accuracy_score(y_test_labels, y_hat_imgs_test)*100:.2f}%')"
   ]
  },
  {
   "cell_type": "markdown",
   "id": "5c75a40b",
   "metadata": {},
   "source": [
    "### Results\n",
    "\n",
    "* We can see that the accuracy score for Training and Testing data is high.\n",
    "* As we increase the number of hidden_nodes, the accuracy increases to a limit and then there is no significant change observed.\n",
    "* Decreasing the learning rate (alpha), the convergence takes more iterations. \n",
    "* Also the SD we used for Weights ans biases (0.01) while initialising can be increased to take bigger steps per iteration"
   ]
  },
  {
   "cell_type": "markdown",
   "id": "65b9a44f",
   "metadata": {},
   "source": [
    "## Part 5: Enhancement task"
   ]
  },
  {
   "cell_type": "markdown",
   "id": "0b9315a6",
   "metadata": {},
   "source": [
    "Few code enhancements done are:\n",
    "* Code enhancements makes the model faster to train and predict\n",
    "* Optimising code by creating a class and defining all the function inside it. Self interactions within the class reduces the redundancies in the code. \n",
    "* plot function is also defined within the class, needs no argument to plot the loss-iterations cure.\n",
    "* Predict can also be used to predict the estimated classes (y_hat_approximate), does not have to provide updated W or B.\n",
    "* As plot and predict are inside the class, now train function does not need to return any value.\n",
    "\n",
    "**Decaying alpha**\n",
    "\n",
    "* Decay has been added to alpha as to reduce learning rate after number of iterations to not cross the global optima.\n",
    "* Approach of simmulated annealing has been added to the learning rate.\n"
   ]
  },
  {
   "cell_type": "code",
   "execution_count": 48,
   "id": "e2b8173c",
   "metadata": {},
   "outputs": [],
   "source": [
    "class Enhanced_NN():\n",
    "    \n",
    "    def __init__(self, nodes =4, alpha = 0.1, max_iterations = 50000, threshold = 1e-8, decay = 0.999):\n",
    "        \n",
    "        # Initiating parameters. All the parameters have a default value, hence class can be called without arguments\n",
    "        self.hidden_layer = [nodes, 1]\n",
    "        self.alpha = alpha\n",
    "        self.decay = decay\n",
    "        self.max_iterations = max_iterations\n",
    "        self.threshold = threshold\n",
    "    \n",
    "    \n",
    "    def sigmoid(self, z, output_layer = False):\n",
    "    \n",
    "        # for hidden layer\n",
    "        if output_layer == False:    \n",
    "            return 1/(1+np.exp(-z))\n",
    "        else:\n",
    "            # for output layer\n",
    "            return sigmoid(z)*(1-sigmoid(z))\n",
    "    \n",
    "    def forward_prop(self, x):    \n",
    "    \n",
    "        # initialising a_layer with the input instance\n",
    "        self.a_layer = [x]\n",
    "        # for Input layer, Z is initialised as x\n",
    "        self.Z = x\n",
    "        \n",
    "        for layer in range(self.hidden_layer[1]+1):\n",
    "            \n",
    "            self.Z = self.b[layer] + np.dot(self.Z, self.W[layer].T)\n",
    "            self.a_layer.append(self.sigmoid(self.Z))\n",
    "\n",
    "    \n",
    "    def loss_func(self):    \n",
    "    \n",
    "        self.Y = np.array(self.true_y)\n",
    "        self.y_hat = np.array(self.a_layer[-1])\n",
    "\n",
    "        self.J = -(self.Y*np.log(self.y_hat)+(1-self.Y)*np.log(1-self.y_hat))\n",
    "        return self.J\n",
    "    \n",
    "    def back_prop(self):   \n",
    "        \n",
    "        # Initialising dW and db\n",
    "    \n",
    "        self.dW = [np.zeros((layer.shape)) for layer in self.W]\n",
    "        self.db = [np.zeros((layer.shape)) for layer in self.b]\n",
    "\n",
    "        self.dZ_nodes = [0 for _ in range(self.hidden_layer[0])]\n",
    "\n",
    "        for layer in range(-1, -self.hidden_layer[1]-2, -1):\n",
    "            # For output layer\n",
    "            if layer == -1:\n",
    "\n",
    "                self.dZ = self.a_layer[layer].T - np.array(self.true_y)   \n",
    "                self.dW[layer] = np.dot(self.dZ , self.a_layer[layer-1])\n",
    "                self.db[layer] = np.sum(self.dZ)\n",
    "                self.dZ_nodes[layer] = self.dZ\n",
    "            #for hidden layer\n",
    "            else:\n",
    "\n",
    "                self.dZ = np.dot(self.dZ_nodes[1+layer].T,  self.W[1+layer]) * self.sigmoid(self.a_layer[layer],output_layer = True)\n",
    "                self.dW[layer] = (self.dZ.T * self.a_layer[layer-1])\n",
    "                self.db[layer] = np.sum(self.dZ)\n",
    "                self.dZ_nodes[layer] = self.dZ\n",
    "\n",
    "    \n",
    "    def train(self, x, Y):\n",
    "        \n",
    "        \n",
    "        self.x = x\n",
    "        self.Y = Y\n",
    "        \n",
    "        # Initialising weights and bias with mean =0 and std = 0.01\n",
    "        self.W = []\n",
    "        self.b = []\n",
    "        # Hidden layer\n",
    "        self.W.append(np.random.normal(loc=0.0, scale=0.01, size = (self.hidden_layer[0], self.x.shape[1])))\n",
    "        self.b.append(np.random.normal(loc=0.0, scale=0.01, size = (1, self.hidden_layer[0])))\n",
    "        # output layer\n",
    "        self.W.append(np.random.normal(loc=0.0, scale=0.01, size = (self.hidden_layer[1], self.hidden_layer[0])))\n",
    "        self.b.append(np.random.normal(loc=0.0, scale=0.01, size = (1,1)))\n",
    "\n",
    "        # Initialising cost function to high cost\n",
    "        self.losses=[]\n",
    "        self.J = 1000\n",
    "        self.J_previous = 1000\n",
    "        self.iterations=0\n",
    "\n",
    "        # initialising stop flag to false\n",
    "        self.stop = False\n",
    "        while self.stop==False:\n",
    "            \n",
    "            # choosing random index\n",
    "            random_loc = np.random.choice(len(self.x))\n",
    "            \n",
    "            # randomly finding x and y instance to train\n",
    "            self.training_case = x[random_loc]\n",
    "            self.true_y = Y[random_loc]\n",
    "            \n",
    "\n",
    "            self.forward_prop(self.training_case)\n",
    "\n",
    "            self.y_hat = self.a_layer[-1] # output of last layer\n",
    "\n",
    "            self.J = self.loss_func()\n",
    "\n",
    "            self.back_prop()\n",
    "\n",
    "            # updating weights\n",
    "            for j in range(len(self.W)):\n",
    "                self.W[j] -= self.alpha * self.dW[j]\n",
    "                self.b[j] -= self.alpha * self.db[j]\n",
    "\n",
    "                \n",
    "            self.iterations+=1\n",
    "            \n",
    "            # checking convergence\n",
    "            if abs(self.J - self.J_previous) < self.threshold:\n",
    "                self.stop = True\n",
    "                \n",
    "            # checking iterations limit\n",
    "            elif self.iterations==self.max_iterations:\n",
    "                self.stop = True\n",
    "\n",
    "            # Hill climb approach\n",
    "            if abs(self.J)< abs(self.J_previous):\n",
    "\n",
    "                self.losses.append(self.J)\n",
    "                self.J_previous = self.J\n",
    "            else:\n",
    "                self.losses.append(self.J_previous)\n",
    "            \n",
    "            # Simulated Annealing Approach (decay to alpha)\n",
    "            self.alpha *= self.decay\n",
    "\n",
    "    \n",
    "    def predict(self, x_predict):\n",
    "        self.forward_prop(x_predict)\n",
    "        return np.array([1 if y>=0.5 else 0 for y in self.a_layer[-1]])\n",
    "\n",
    "    def plot(self):\n",
    "        plt.plot(range(self.iterations), np.array(self.losses).flatten())\n",
    "        plt.show()\n"
   ]
  },
  {
   "cell_type": "markdown",
   "id": "a5b174ad",
   "metadata": {},
   "source": [
    "## Evaluation on MNIST Dataset"
   ]
  },
  {
   "cell_type": "code",
   "execution_count": 49,
   "id": "c96c1f9b",
   "metadata": {},
   "outputs": [],
   "source": [
    "model = Enhanced_NN(nodes = 10)"
   ]
  },
  {
   "cell_type": "code",
   "execution_count": 50,
   "id": "a3ab9bf7",
   "metadata": {},
   "outputs": [],
   "source": [
    "model.train(x_train_imgs, y_train_labels)"
   ]
  },
  {
   "cell_type": "code",
   "execution_count": 51,
   "id": "dded53e8",
   "metadata": {},
   "outputs": [
    {
     "data": {
      "image/png": "[encoded data removed]",
      "text/plain": [
       "<Figure size 640x480 with 1 Axes>"
      ]
     },
     "metadata": {},
     "output_type": "display_data"
    }
   ],
   "source": [
    "model.plot()"
   ]
  },
  {
   "cell_type": "code",
   "execution_count": 52,
   "id": "a0a43414",
   "metadata": {},
   "outputs": [],
   "source": [
    "y_hat_enc_train = model.predict(x_train_imgs)\n",
    "y_hat_enc = model.predict(x_test_imgs)"
   ]
  },
  {
   "cell_type": "code",
   "execution_count": 53,
   "id": "edd381c9",
   "metadata": {},
   "outputs": [
    {
     "name": "stdout",
     "output_type": "stream",
     "text": [
      "Accuracy of MNIST train data: 99.96%\n",
      "Accuracy of MNIST test data: 99.90%\n"
     ]
    }
   ],
   "source": [
    "print(f'Accuracy of MNIST train data: {accuracy_score(y_train_labels, y_hat_enc_train)*100:.2f}%')\n",
    "print(f'Accuracy of MNIST test data: {accuracy_score(y_test_labels, y_hat_enc)*100:.2f}%')"
   ]
  },
  {
   "cell_type": "markdown",
   "id": "38e5370e",
   "metadata": {},
   "source": [
    "# Conclusion"
   ]
  },
  {
   "cell_type": "markdown",
   "id": "97437139",
   "metadata": {},
   "source": [
    "This assignment can be concluded in following points:\n",
    "\n",
    "* Started with No hidden layer logistic regression neural network, with stochastic gradient descent, where took 1 instance at a time. Calculated the Cost function and optimised the weights and bias to reduce it.\n",
    "* Evaluated 2 small databases Circles and Blobs using the created no hidden layer logistic ression NN. Found out that Blobs were linearly separable with a high accuracy score and Circles are linearly not separable with low accuracy.\n",
    "* Then updated the NN by adding 1 hidden layer to it. Updated all the functions accordingly. Used Numpy for matrix calculations. Wwe computed the small datasets again, this time circles performed better than the no hidden layer NN.\n",
    "* From the code given by the professor, downloaded the dataset for images of **Skeaker and Trouser**. Normalised the images data and evaluated using shallow NN created above.\n",
    "* Then by createing class for the neural network, added functionalities like train, predict and plot to the class itself. Added a decay factor to the learning rate so as to not cross the global optima after some iterations."
   ]
  },
  {
   "cell_type": "markdown",
   "id": "3d255096",
   "metadata": {},
   "source": [
    "<hr>"
   ]
  }
 ],
 "metadata": {
  "kernelspec": {
   "display_name": "Python 3 (ipykernel)",
   "language": "python",
   "name": "python3"
  },
  "language_info": {
   "codemirror_mode": {
    "name": "ipython",
    "version": 3
   },
   "file_extension": ".py",
   "mimetype": "text/x-python",
   "name": "python",
   "nbconvert_exporter": "python",
   "pygments_lexer": "ipython3",
   "version": "3.11.4"
  }
 },
 "nbformat": 4,
 "nbformat_minor": 5
}
